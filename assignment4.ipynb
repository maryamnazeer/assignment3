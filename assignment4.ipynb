{
 "cells": [
  {
   "cell_type": "code",
   "execution_count": 4,
   "id": "a022b9d1",
   "metadata": {},
   "outputs": [],
   "source": [
    "class Apple:\n",
    "    pass\n",
    "class Apple:\n",
    "    color = \"\"\n",
    "    flavor = \"\""
   ]
  },
  {
   "cell_type": "code",
   "execution_count": 5,
   "id": "0486c56f",
   "metadata": {},
   "outputs": [],
   "source": [
    "jonagold = Apple()\n",
    "jonagold.color =\"red\"\n",
    "jonagold.flavor =\"sweet\"\n"
   ]
  },
  {
   "cell_type": "code",
   "execution_count": 6,
   "id": "7bdd3d58",
   "metadata": {},
   "outputs": [
    {
     "name": "stdout",
     "output_type": "stream",
     "text": [
      "sweet\n"
     ]
    }
   ],
   "source": [
    "print(jonagold.flavor)"
   ]
  },
  {
   "cell_type": "code",
   "execution_count": 7,
   "id": "4f61c503",
   "metadata": {},
   "outputs": [
    {
     "name": "stdout",
     "output_type": "stream",
     "text": [
      "RED\n"
     ]
    }
   ],
   "source": [
    "print(jonagold.color.upper())"
   ]
  },
  {
   "cell_type": "code",
   "execution_count": 10,
   "id": "529ffb81",
   "metadata": {},
   "outputs": [],
   "source": [
    "class Flower:\n",
    "    color = 'unkown'"
   ]
  },
  {
   "cell_type": "code",
   "execution_count": 11,
   "id": "9ee9508f",
   "metadata": {},
   "outputs": [],
   "source": [
    "rose = Flower()\n",
    "rose.color = 'red'"
   ]
  },
  {
   "cell_type": "code",
   "execution_count": 12,
   "id": "7a8da026",
   "metadata": {},
   "outputs": [],
   "source": [
    "violet = Flower()\n",
    "violet.color = \"blue\""
   ]
  },
  {
   "cell_type": "code",
   "execution_count": 13,
   "id": "babf1a3d",
   "metadata": {},
   "outputs": [
    {
     "name": "stdout",
     "output_type": "stream",
     "text": [
      "Rose are red,\n"
     ]
    }
   ],
   "source": [
    "print(\"Rose are {},\".format(rose.color))"
   ]
  },
  {
   "cell_type": "code",
   "execution_count": 18,
   "id": "f48c6c8a",
   "metadata": {},
   "outputs": [
    {
     "name": "stdout",
     "output_type": "stream",
     "text": [
      "violets are blue,\n"
     ]
    }
   ],
   "source": [
    "print(\"violets are {},\".format(violet.color))"
   ]
  },
  {
   "cell_type": "code",
   "execution_count": 21,
   "id": "253d31c7",
   "metadata": {},
   "outputs": [],
   "source": [
    "class Cat:\n",
    "    name = ''\n",
    "    def speak(self):\n",
    "        print(\"Meow!I'm {} ! Meow\".format(self.name))"
   ]
  },
  {
   "cell_type": "code",
   "execution_count": 22,
   "id": "3db77c00",
   "metadata": {},
   "outputs": [
    {
     "name": "stdout",
     "output_type": "stream",
     "text": [
      "Meow!I'm Luna ! Meow\n"
     ]
    }
   ],
   "source": [
    "myLuna = Cat()\n",
    "myLuna.name = \"Luna\"\n",
    "myLuna.speak()"
   ]
  },
  {
   "cell_type": "code",
   "execution_count": 30,
   "id": "716440bf",
   "metadata": {},
   "outputs": [
    {
     "name": "stdout",
     "output_type": "stream",
     "text": [
      "Meow!I'm Luna ! Meow\n",
      "Meow!I'm Bella ! Meow\n"
     ]
    }
   ],
   "source": [
    "class Cat:\n",
    "    name = ''\n",
    "    def speak(self):\n",
    "        print(\"Meow!I'm {} ! Meow\".format(self.name))  \n",
    "myLuna = Cat()\n",
    "myLuna.name = \"Luna\"\n",
    "myLuna.speak()\n",
    "\n",
    "myBella = Cat()\n",
    "myBella.name = \"Bella\"\n",
    "myBella.speak()\n",
    "\n",
    "        "
   ]
  },
  {
   "cell_type": "code",
   "execution_count": 36,
   "id": "1fb6e316",
   "metadata": {},
   "outputs": [
    {
     "data": {
      "text/plain": [
       "0"
      ]
     },
     "execution_count": 36,
     "metadata": {},
     "output_type": "execute_result"
    }
   ],
   "source": [
    "class Cat:\n",
    "    years = 0\n",
    "    def age (self):\n",
    "        return self.years * 12\n",
    "myLuna = Cat()\n",
    "myLuna.age()"
   ]
  },
  {
   "cell_type": "code",
   "execution_count": null,
   "id": "87d98fac",
   "metadata": {},
   "outputs": [],
   "source": [
    "class person:\n",
    "    def _init_(self, name):\n",
    "        self.name = name\n",
    "    def greeting(self):\n",
    "        \"\"\"Outputs a message with the name of the person\"\"\"\n",
    "        _\n",
    "        print(\"Hello! My name is {name}.\".format(name=self.name))\n",
    "        \n",
    "    help(person)\n",
    "        "
   ]
  },
  {
   "cell_type": "code",
   "execution_count": null,
   "id": "b080f053",
   "metadata": {},
   "outputs": [],
   "source": []
  },
  {
   "cell_type": "code",
   "execution_count": null,
   "id": "723e05db",
   "metadata": {},
   "outputs": [],
   "source": []
  },
  {
   "cell_type": "code",
   "execution_count": null,
   "id": "1d468d43",
   "metadata": {},
   "outputs": [],
   "source": []
  },
  {
   "cell_type": "code",
   "execution_count": null,
   "id": "aa382c9d",
   "metadata": {},
   "outputs": [],
   "source": []
  },
  {
   "cell_type": "code",
   "execution_count": null,
   "id": "742a08e0",
   "metadata": {},
   "outputs": [],
   "source": []
  },
  {
   "cell_type": "code",
   "execution_count": null,
   "id": "feb23232",
   "metadata": {},
   "outputs": [],
   "source": []
  },
  {
   "cell_type": "code",
   "execution_count": null,
   "id": "9e8ca962",
   "metadata": {},
   "outputs": [],
   "source": []
  }
 ],
 "metadata": {
  "kernelspec": {
   "display_name": "Python 3 (ipykernel)",
   "language": "python",
   "name": "python3"
  },
  "language_info": {
   "codemirror_mode": {
    "name": "ipython",
    "version": 3
   },
   "file_extension": ".py",
   "mimetype": "text/x-python",
   "name": "python",
   "nbconvert_exporter": "python",
   "pygments_lexer": "ipython3",
   "version": "3.9.13"
  }
 },
 "nbformat": 4,
 "nbformat_minor": 5
}
